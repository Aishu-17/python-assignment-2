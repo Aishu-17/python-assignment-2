{
 "cells": [
  {
   "cell_type": "markdown",
   "metadata": {},
   "source": [
    "1.Discuss string slicing and provide examples\n",
    "\n",
    "\n",
    "String slicing is a technique in programming used to extract a portion of a string based on specified indices. In Python, string slicing is done using the syntax: string[start:end:step] \n",
    "a.start: The starting index and defaults to 0\n",
    "b.end: The ending index and defaults to the length of the string\n",
    "c.step: The interval between characters to include (default is 1).\n",
    "\n",
    "Practical Applications:\n",
    "-Extracting substrings for data processing.\n",
    "-Reversing strings.\n",
    "-Accessing specific patterns in text."
   ]
  },
  {
   "cell_type": "code",
   "execution_count": 1,
   "metadata": {},
   "outputs": [
    {
     "name": "stdout",
     "output_type": "stream",
     "text": [
      "Hello\n",
      "World\n"
     ]
    }
   ],
   "source": [
    "text = \"Hello, World!\"\n",
    "print(text[0:5])  \n",
    "print(text[7:12]) "
   ]
  },
  {
   "cell_type": "code",
   "execution_count": 3,
   "metadata": {},
   "outputs": [
    {
     "name": "stdout",
     "output_type": "stream",
     "text": [
      "ing\n",
      "Program\n"
     ]
    }
   ],
   "source": [
    "text = \"Programming\"\n",
    "print(text[-3:]) \n",
    "print(text[:-4]) "
   ]
  },
  {
   "cell_type": "markdown",
   "metadata": {},
   "source": [
    "2.Explain the key features of lists in Python\n",
    "\n",
    "Lists are a versatile and widely used data structure in Python, allowing for the storage and manipulation of an ordered collection of elements.\n",
    "Lists are ordered, mutable, can hold heterogenous data, supports indexing ans slicing, can be iterable, and has numerous built-in methods for common operations."
   ]
  },
  {
   "cell_type": "code",
   "execution_count": 5,
   "metadata": {},
   "outputs": [
    {
     "name": "stdout",
     "output_type": "stream",
     "text": [
      "[1, 20, 3]\n"
     ]
    }
   ],
   "source": [
    "#mutable\n",
    "my_list = [1, 2, 3]\n",
    "my_list[1] = 20\n",
    "print(my_list)"
   ]
  },
  {
   "cell_type": "code",
   "execution_count": 6,
   "metadata": {},
   "outputs": [
    {
     "name": "stdout",
     "output_type": "stream",
     "text": [
      "[10, 'hello', 3.14, [1, 2]]\n"
     ]
    }
   ],
   "source": [
    "#heterogenous\n",
    "my_list = [10, \"hello\", 3.14, [1, 2]]\n",
    "print(my_list)"
   ]
  },
  {
   "cell_type": "code",
   "execution_count": 7,
   "metadata": {},
   "outputs": [
    {
     "name": "stdout",
     "output_type": "stream",
     "text": [
      "[20, 30]\n"
     ]
    }
   ],
   "source": [
    "#indexing and slicing\n",
    "my_list = [10, 20, 30, 40]\n",
    "print(my_list[1:3])"
   ]
  },
  {
   "cell_type": "code",
   "execution_count": 8,
   "metadata": {},
   "outputs": [
    {
     "name": "stdout",
     "output_type": "stream",
     "text": [
      "1\n",
      "2\n",
      "3\n"
     ]
    }
   ],
   "source": [
    "#iterable\n",
    "my_list = [1, 2, 3]\n",
    "for item in my_list:\n",
    "    print(item)"
   ]
  },
  {
   "cell_type": "code",
   "execution_count": 11,
   "metadata": {},
   "outputs": [
    {
     "name": "stdout",
     "output_type": "stream",
     "text": [
      "[1, 2, 3]\n",
      "[3, 2, 1]\n",
      "[3, 2, 1, 40]\n",
      "[3, 2, 40]\n"
     ]
    }
   ],
   "source": [
    "#built-in methods\n",
    "my_list = [3, 1, 2]\n",
    "my_list.sort()\n",
    "print(my_list)  \n",
    "\n",
    "my_list.reverse()\n",
    "print(my_list)\n",
    "\n",
    "my_list.append(40)\n",
    "print(my_list)\n",
    "\n",
    "my_list.remove(1)\n",
    "print(my_list) "
   ]
  },
  {
   "cell_type": "markdown",
   "metadata": {},
   "source": [
    "3. Describe how to access, modify, and delete elements in a list with examples"
   ]
  },
  {
   "cell_type": "code",
   "execution_count": null,
   "metadata": {},
   "outputs": [
    {
     "name": "stdout",
     "output_type": "stream",
     "text": [
      "20\n",
      "50\n",
      "[20, 30, 40]\n"
     ]
    }
   ],
   "source": [
    "my_list = [10, 20, 30, 40, 50]\n",
    "# Access by index\n",
    "print(my_list[1])    \n",
    "print(my_list[-1])   \n",
    "\n",
    "# Access using slicing\n",
    "print(my_list[1:4])  "
   ]
  },
  {
   "cell_type": "code",
   "execution_count": 13,
   "metadata": {},
   "outputs": [
    {
     "name": "stdout",
     "output_type": "stream",
     "text": [
      "[10, 25, 30, 40, 50]\n",
      "[10, 25, 35, 45, 50]\n"
     ]
    }
   ],
   "source": [
    "my_list = [10, 20, 30, 40, 50]\n",
    "# Modify a single element\n",
    "my_list[1] = 25\n",
    "print(my_list) \n",
    "\n",
    "# Modify multiple elements\n",
    "my_list[2:4] = [35, 45]\n",
    "print(my_list) "
   ]
  },
  {
   "cell_type": "code",
   "execution_count": 14,
   "metadata": {},
   "outputs": [
    {
     "name": "stdout",
     "output_type": "stream",
     "text": [
      "[10, 30, 40, 50]\n",
      "[10, 50]\n"
     ]
    }
   ],
   "source": [
    "my_list = [10, 20, 30, 40, 50]\n",
    "del my_list[1]         # Deletes the element at index 1\n",
    "print(my_list)         \n",
    "\n",
    "del my_list[1:3]       # Deletes a slice\n",
    "print(my_list)  "
   ]
  },
  {
   "cell_type": "code",
   "execution_count": 15,
   "metadata": {},
   "outputs": [
    {
     "name": "stdout",
     "output_type": "stream",
     "text": [
      "[10, 30, 20, 40]\n"
     ]
    }
   ],
   "source": [
    "my_list = [10, 20, 30, 20, 40]\n",
    "my_list.remove(20)   \n",
    "print(my_list) "
   ]
  },
  {
   "cell_type": "code",
   "execution_count": 16,
   "metadata": {},
   "outputs": [
    {
     "name": "stdout",
     "output_type": "stream",
     "text": [
      "[10, 20, 40]\n",
      "30\n"
     ]
    }
   ],
   "source": [
    "my_list = [10, 20, 30, 40]\n",
    "removed_item = my_list.pop(2) \n",
    "print(my_list)              \n",
    "print(removed_item)"
   ]
  },
  {
   "cell_type": "markdown",
   "metadata": {},
   "source": [
    "4. Compare and contrast tuples and lists with examples\n",
    "\n",
    "Tuples and lists are both sequence data types in Python that can store collections of items. However, they have distinct characteristics and use cases.\n",
    "\n",
    "a.Mutability:\n",
    "Lists: Mutable; elements can be changed, added, or removed.\n",
    "Tuples: Immutable; once defined, elements cannot be changed.\n",
    "\n",
    "b.syntax:\n",
    "Lists: Defined using square brackets [].\n",
    "Tuples: Defined using parentheses ().\n",
    "\n",
    "c.methods:\n",
    "Lists: Have numerous methods like append(), remove(), pop(), sort(), etc.\n",
    "Tuples: Limited methods (count() and index())."
   ]
  },
  {
   "cell_type": "code",
   "execution_count": 18,
   "metadata": {},
   "outputs": [
    {
     "name": "stdout",
     "output_type": "stream",
     "text": [
      "[1, 20, 3]\n"
     ]
    },
    {
     "ename": "TypeError",
     "evalue": "'tuple' object does not support item assignment",
     "output_type": "error",
     "traceback": [
      "\u001b[1;31m---------------------------------------------------------------------------\u001b[0m",
      "\u001b[1;31mTypeError\u001b[0m                                 Traceback (most recent call last)",
      "Cell \u001b[1;32mIn[18], line 8\u001b[0m\n\u001b[0;32m      6\u001b[0m \u001b[38;5;66;03m# Tuple (Immutable)\u001b[39;00m\n\u001b[0;32m      7\u001b[0m my_tuple \u001b[38;5;241m=\u001b[39m (\u001b[38;5;241m1\u001b[39m, \u001b[38;5;241m2\u001b[39m, \u001b[38;5;241m3\u001b[39m)\n\u001b[1;32m----> 8\u001b[0m \u001b[43mmy_tuple\u001b[49m\u001b[43m[\u001b[49m\u001b[38;5;241;43m1\u001b[39;49m\u001b[43m]\u001b[49m \u001b[38;5;241m=\u001b[39m \u001b[38;5;241m20\u001b[39m  \u001b[38;5;66;03m# This will raise a TypeError\u001b[39;00m\n",
      "\u001b[1;31mTypeError\u001b[0m: 'tuple' object does not support item assignment"
     ]
    }
   ],
   "source": [
    "# List (Mutable)\n",
    "my_list = [1, 2, 3]\n",
    "my_list[1] = 20\n",
    "print(my_list)  # Output: [1, 20, 3]\n",
    "\n",
    "# Tuple (Immutable)\n",
    "my_tuple = (1, 2, 3)\n",
    "my_tuple[1] = 20  # This will raise a TypeError"
   ]
  },
  {
   "cell_type": "code",
   "execution_count": 19,
   "metadata": {},
   "outputs": [],
   "source": [
    "my_list = [10, 20, 30]\n",
    "my_tuple = (10, 20, 30)\n"
   ]
  },
  {
   "cell_type": "code",
   "execution_count": 20,
   "metadata": {},
   "outputs": [
    {
     "name": "stdout",
     "output_type": "stream",
     "text": [
      "[1, 2, 3, 4]\n",
      "2\n",
      "3\n"
     ]
    }
   ],
   "source": [
    "# List methods\n",
    "my_list = [1, 2, 3]\n",
    "my_list.append(4)\n",
    "print(my_list)  \n",
    "\n",
    "# Tuple methods\n",
    "my_tuple = (1, 2, 2, 3)\n",
    "print(my_tuple.count(2)) \n",
    "print(my_tuple.index(3))"
   ]
  },
  {
   "cell_type": "markdown",
   "metadata": {},
   "source": [
    "5. Describe the key features of sets and provide examples of their use\n",
    "\n",
    "Unordered: No specific order for elements.\n",
    "Unique Elements: Duplicate elements are automatically removed.\n",
    "Mutable: You can add or remove elements, but set elements must be immutable.\n",
    "No Indexing: Elements cannot be accessed using indices.\n",
    "Efficient Membership Testing: Faster than lists for checking if an element exists.\n",
    "\n",
    "Use Case:\n",
    "Remove duplicates from a list"
   ]
  },
  {
   "cell_type": "code",
   "execution_count": 21,
   "metadata": {},
   "outputs": [
    {
     "name": "stdout",
     "output_type": "stream",
     "text": [
      "{1, 2, 3, 4}\n"
     ]
    }
   ],
   "source": [
    "my_set = {1, 2, 3, 4}\n",
    "print(my_set) "
   ]
  },
  {
   "cell_type": "code",
   "execution_count": null,
   "metadata": {},
   "outputs": [
    {
     "name": "stdout",
     "output_type": "stream",
     "text": [
      "{1, 2, 3, 4}\n",
      "{1, 3, 4}\n"
     ]
    }
   ],
   "source": [
    "my_set = {1, 2, 3}\n",
    "my_set.add(4)        \n",
    "print(my_set)        \n",
    "my_set.remove(2)      \n",
    "print(my_set)"
   ]
  },
  {
   "cell_type": "code",
   "execution_count": 23,
   "metadata": {},
   "outputs": [
    {
     "name": "stdout",
     "output_type": "stream",
     "text": [
      "{1, 2, 3, 4, 5}\n",
      "{3}\n",
      "{1, 2}\n"
     ]
    }
   ],
   "source": [
    "set1 = {1, 2, 3}\n",
    "set2 = {3, 4, 5}\n",
    "print(set1 | set2) \n",
    "print(set1 & set2) \n",
    "print(set1 - set2) "
   ]
  },
  {
   "cell_type": "code",
   "execution_count": 24,
   "metadata": {},
   "outputs": [
    {
     "name": "stdout",
     "output_type": "stream",
     "text": [
      "True\n",
      "False\n"
     ]
    }
   ],
   "source": [
    "my_set = {1, 2, 3}\n",
    "print(2 in my_set) \n",
    "print(4 in my_set)"
   ]
  },
  {
   "cell_type": "code",
   "execution_count": 25,
   "metadata": {},
   "outputs": [
    {
     "name": "stdout",
     "output_type": "stream",
     "text": [
      "{1, 2, 3, 4}\n"
     ]
    }
   ],
   "source": [
    "my_list = [1, 2, 2, 3, 4, 4]\n",
    "unique_set = set(my_list)\n",
    "print(unique_set)"
   ]
  },
  {
   "cell_type": "markdown",
   "metadata": {},
   "source": [
    "6. Discuss the use cases of tuples and sets in Python programming\n",
    "\n",
    "Tuples: Use when data must remain constant or needs to act as a key in dictionaries.They are immutable.\n",
    "Sets: Use for collections requiring uniqueness, efficient membership tests, or mathematical operations.Removes duplicate values"
   ]
  },
  {
   "cell_type": "code",
   "execution_count": null,
   "metadata": {},
   "outputs": [
    {
     "name": "stdout",
     "output_type": "stream",
     "text": [
      "(8, 2)\n"
     ]
    }
   ],
   "source": [
    "#Functions often return multiple values as a tuple.\n",
    "def calculate(a, b):\n",
    "    return (a + b, a - b)\n",
    "\n",
    "result = calculate(5, 3)\n",
    "print(result) "
   ]
  },
  {
   "cell_type": "code",
   "execution_count": 27,
   "metadata": {},
   "outputs": [
    {
     "ename": "TypeError",
     "evalue": "'tuple' object does not support item assignment",
     "output_type": "error",
     "traceback": [
      "\u001b[1;31m---------------------------------------------------------------------------\u001b[0m",
      "\u001b[1;31mTypeError\u001b[0m                                 Traceback (most recent call last)",
      "Cell \u001b[1;32mIn[27], line 3\u001b[0m\n\u001b[0;32m      1\u001b[0m \u001b[38;5;66;03m#tuples are immutable\u001b[39;00m\n\u001b[0;32m      2\u001b[0m my_tuple \u001b[38;5;241m=\u001b[39m (\u001b[38;5;241m1\u001b[39m, \u001b[38;5;241m2\u001b[39m, \u001b[38;5;241m3\u001b[39m)\n\u001b[1;32m----> 3\u001b[0m \u001b[43mmy_tuple\u001b[49m\u001b[43m[\u001b[49m\u001b[38;5;241;43m1\u001b[39;49m\u001b[43m]\u001b[49m \u001b[38;5;241m=\u001b[39m \u001b[38;5;241m20\u001b[39m  \u001b[38;5;66;03m# Raises TypeError: Tuples cannot be modified\u001b[39;00m\n\u001b[0;32m      4\u001b[0m \u001b[38;5;28mprint\u001b[39m(my_tuple) \n",
      "\u001b[1;31mTypeError\u001b[0m: 'tuple' object does not support item assignment"
     ]
    }
   ],
   "source": [
    "#tuples are immutable\n",
    "my_tuple = (1, 2, 3)\n",
    "my_tuple[1] = 20  # Raises TypeError: Tuples cannot be modified\n",
    "print(my_tuple) "
   ]
  },
  {
   "cell_type": "code",
   "execution_count": 29,
   "metadata": {},
   "outputs": [
    {
     "name": "stdout",
     "output_type": "stream",
     "text": [
      "('Monday', 'Tuesday', 'Wednesday')\n"
     ]
    }
   ],
   "source": [
    "#Useful for storing fixed collections of related items \n",
    "\n",
    "days = (\"Monday\", \"Tuesday\", \"Wednesday\")\n",
    "print(days)"
   ]
  },
  {
   "cell_type": "code",
   "execution_count": 30,
   "metadata": {},
   "outputs": [
    {
     "name": "stdout",
     "output_type": "stream",
     "text": [
      "{1, 2, 3}\n"
     ]
    }
   ],
   "source": [
    "#removes duplicate\n",
    "my_list = [1, 2, 2, 3]\n",
    "unique = set(my_list)\n",
    "print(unique)"
   ]
  },
  {
   "cell_type": "code",
   "execution_count": 31,
   "metadata": {},
   "outputs": [
    {
     "name": "stdout",
     "output_type": "stream",
     "text": [
      "True\n"
     ]
    }
   ],
   "source": [
    "#membership testing\n",
    "my_set = {1, 2, 3}\n",
    "print(2 in my_set)"
   ]
  },
  {
   "cell_type": "code",
   "execution_count": 32,
   "metadata": {},
   "outputs": [
    {
     "name": "stdout",
     "output_type": "stream",
     "text": [
      "{'python', 'coding', 'programming'}\n"
     ]
    }
   ],
   "source": [
    "tags = {\"python\", \"programming\", \"coding\", \"python\"}\n",
    "print(tags) "
   ]
  },
  {
   "cell_type": "markdown",
   "metadata": {},
   "source": [
    "7.Describe how to add, modify, and delete items in a dictionary with examples\n",
    "\n",
    "Dictionaries in Python store key-value pairs and allow for dynamic addition, modification, and deletion of items."
   ]
  },
  {
   "cell_type": "code",
   "execution_count": null,
   "metadata": {},
   "outputs": [
    {
     "name": "stdout",
     "output_type": "stream",
     "text": [
      "{'name': 'Alice', 'age': 25, 'city': 'New York'}\n"
     ]
    }
   ],
   "source": [
    "#add items to the dictionary\n",
    "my_dict = {\"name\": \"Alice\", \"age\": 25}\n",
    "\n",
    "my_dict[\"city\"] = \"New York\"\n",
    "print(my_dict)"
   ]
  },
  {
   "cell_type": "code",
   "execution_count": null,
   "metadata": {},
   "outputs": [
    {
     "name": "stdout",
     "output_type": "stream",
     "text": [
      "{'name': 'Alice', 'age': 26}\n"
     ]
    }
   ],
   "source": [
    "#modify items from dictionary\n",
    "\n",
    "my_dict = {\"name\": \"Alice\", \"age\": 25}\n",
    "\n",
    "my_dict[\"age\"] = 26\n",
    "print(my_dict) "
   ]
  },
  {
   "cell_type": "code",
   "execution_count": null,
   "metadata": {},
   "outputs": [
    {
     "name": "stdout",
     "output_type": "stream",
     "text": [
      "{'name': 'Alice', 'age': 25}\n",
      "25\n",
      "{'name': 'Alice'}\n",
      "{}\n"
     ]
    }
   ],
   "source": [
    "#delete items from dictionary\n",
    "\n",
    "my_dict = {\"name\": \"Alice\", \"age\": 25, \"city\": \"New York\"}\n",
    "\n",
    "# Delete a specific key-value pair\n",
    "del my_dict[\"city\"]\n",
    "print(my_dict) \n",
    "\n",
    "# Remove a key and get its value\n",
    "removed_value = my_dict.pop(\"age\")\n",
    "print(removed_value)\n",
    "print(my_dict)\n",
    "\n",
    "# Clear all items\n",
    "my_dict.clear()\n",
    "print(my_dict) "
   ]
  },
  {
   "cell_type": "markdown",
   "metadata": {},
   "source": [
    "8.Discuss the importance of dictionary keys being immutable and provide examples\n",
    "\n",
    "In Python, dictionary keys must be immutable to ensure they are hashable. Immutable objects like strings, tuples, and numbers have fixed hash values, making them reliable for fast lookups in dictionaries. Mutable objects, like lists and sets, can't be used as keys because their hash values can change, leading to unpredictable behavior and errors. This immutability ensures consistency, efficiency, and data integrity in dictionary operations."
   ]
  },
  {
   "cell_type": "markdown",
   "metadata": {},
   "source": [
    "These types (strings, tuples, integers, floats, booleans) are immutable and can be used as dictionary keys."
   ]
  },
  {
   "cell_type": "code",
   "execution_count": 36,
   "metadata": {},
   "outputs": [
    {
     "name": "stdout",
     "output_type": "stream",
     "text": [
      "Valid dictionary:\n",
      "Key: name, Value: Alice\n",
      "Key: (1, 2), Value: point A\n",
      "Key: 42, Value: answer\n",
      "Key: 3.14, Value: pi\n",
      "Key: True, Value: yes\n",
      "\n",
      "Error: unhashable type: 'list'\n"
     ]
    }
   ],
   "source": [
    "# Valid dictionary keys\n",
    "valid_dict = {\n",
    "    \"name\": \"Alice\",  # string key\n",
    "    (1, 2): \"point A\",  # tuple key\n",
    "    42: \"answer\",  # integer key\n",
    "    3.14: \"pi\",  # float key\n",
    "    True: \"yes\"  # boolean key\n",
    "}\n",
    "\n",
    "print(\"Valid dictionary:\")\n",
    "for key, value in valid_dict.items():\n",
    "    print(f\"Key: {key}, Value: {value}\")\n",
    "\n",
    "# Attempting to use invalid keys\n",
    "try:\n",
    "    invalid_dict = {\n",
    "        [1, 2]: \"list key\",  # list (mutable) as key\n",
    "        {1, 2}: \"set key\"  # set (mutable) as key\n",
    "    }\n",
    "except TypeError as e:\n",
    "    print(\"\\nError:\", e)"
   ]
  }
 ],
 "metadata": {
  "language_info": {
   "name": "python"
  }
 },
 "nbformat": 4,
 "nbformat_minor": 2
}
